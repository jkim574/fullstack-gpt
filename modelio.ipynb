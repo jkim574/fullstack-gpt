{
 "cells": [
  {
   "attachments": {},
   "cell_type": "markdown",
   "metadata": {},
   "source": [
    "### FewShotPromptTemplate and Fewshot Learning\n",
    "- Fewshot means you are going to give an example to models to lead better answer.\n",
    "- Instead of delivering prompt every single time, it is more efficient to give an example to model what I want."
   ]
  },
  {
   "cell_type": "code",
   "execution_count": 1,
   "metadata": {},
   "outputs": [
    {
     "data": {
      "text/plain": [
       "'What is the capital of France'"
      ]
     },
     "execution_count": 1,
     "metadata": {},
     "output_type": "execute_result"
    }
   ],
   "source": [
    "from langchain.chat_models import ChatOpenAI\n",
    "from langchain.prompts.few_shot import FewShotPromptTemplate, FewShotChatMessagePromptTemplate\n",
    "from langchain.callbacks import StreamingStdOutCallbackHandler\n",
    "from langchain.prompts.prompt import PromptTemplate\n",
    "from langchain.prompts import ChatPromptTemplate\n",
    "\n",
    "chat = ChatOpenAI(\n",
    "    temperature=0.1,\n",
    "    streaming=True,\n",
    "    callbacks=[\n",
    "        StreamingStdOutCallbackHandler(),\n",
    "    ],\n",
    ")\n",
    "\n",
    "# t = PromptTemplate(\n",
    "#     template=\"What is the capital of {country}\",\n",
    "#     input_variable=[\"country\"],\n",
    "# )\n",
    "# t.format(country=\"France\")\n",
    "\n",
    "\n",
    "t = PromptTemplate.from_template(\"What is the capital of {country}\")\n",
    "t.format(country=\"France\") \n"
   ]
  },
  {
   "cell_type": "code",
   "execution_count": 2,
   "metadata": {},
   "outputs": [],
   "source": [
    "examples = [\n",
    "    {\n",
    "    \"question\": \"What do you know about France?\",\n",
    "    \"answer\":\"\"\"\n",
    "    Here is what I know:\n",
    "    Capital:Paris\n",
    "    Language:French\n",
    "    Food: Wine and Cheese\n",
    "    Currency:Euro\n",
    "    \"\"\",\n",
    "    },\n",
    "    {\"question\": \"What do you know about Italy?\",\n",
    "     \"answer\": \"\"\"\n",
    "     I know this:\n",
    "     Capital:Rome\n",
    "     Language: Italian\n",
    "     Food: Pizza and Pasta\n",
    "     Curency: Euro\n",
    "     \"\"\",\n",
    "     },\n",
    "    {\"question\": \"What do you know about Greece?\",\n",
    "     \"answer\": \"\"\"\n",
    "     I know this:\n",
    "     Capital: Athens\n",
    "     Language:Greek\n",
    "     Food: Souvlaki and Feta Cheese\n",
    "     Currency:Euro\n",
    "     \"\"\",\n",
    "     },\n",
    "]"
   ]
  },
  {
   "cell_type": "code",
   "execution_count": 3,
   "metadata": {},
   "outputs": [
    {
     "name": "stdout",
     "output_type": "stream",
     "text": [
      "France is a country located in Western Europe. It is known for its rich history, culture, and contributions to art, literature, and philosophy. Here are some key points about France:\n",
      "\n",
      "1. Capital: The capital city of France is Paris, which is also its largest city.\n",
      "\n",
      "2. Language: The official language is French, and it is spoken by the majority of the population.\n",
      "\n",
      "3. Geography: France shares borders with several countries, including Belgium, Luxembourg, Germany, Switzerland, Italy, Spain, and Andorra. It also has coastlines along the Mediterranean Sea, the Atlantic Ocean, and the English Channel.\n",
      "\n",
      "4. History: France has a long and influential history, including the French Revolution in 1789, which led to the end of the monarchy and the rise of the First French Republic. It has also been involved in various conflicts, including World War I and World War II.\n",
      "\n",
      "5. Culture: France is renowned for its cultural contributions, including its cuisine, fashion, art, literature, and cinema. It is home to many iconic landmarks such as the Eiffel Tower, Louvre Museum, Notre-Dame Cathedral, and Palace of Versailles.\n",
      "\n",
      "6. Economy: France has one of the largest economies in the world and is a member of the European Union. It is known for its industries in sectors like aerospace, automotive, luxury goods, tourism, and agriculture.\n",
      "\n",
      "7. Tourism: France is one of the most visited countries globally, attracting millions of tourists each year. Popular tourist destinations include Paris, the French Riviera, the Loire Valley, Provence, and the French Alps.\n",
      "\n",
      "8. Sports: France has a strong sporting culture and has hosted major international events like the FIFA World Cup and the Tour de France. Football (soccer), rugby, cycling, tennis, and skiing are popular sports in the country.\n",
      "\n",
      "9. Education: France has a well-developed education system, including prestigious universities and institutions. It is known for its contributions to philosophy, mathematics, and science.\n",
      "\n",
      "10. Government: France is a unitary semi-presidential republic, with a President as the head of state and a Prime Minister as the head of government. It has a multi-party political system.\n",
      "\n",
      "These are just some general aspects about France, and there is much more to explore about its history, culture, and society."
     ]
    },
    {
     "data": {
      "text/plain": [
       "'France is a country located in Western Europe. It is known for its rich history, culture, and contributions to art, literature, and philosophy. Here are some key points about France:\\n\\n1. Capital: The capital city of France is Paris, which is also its largest city.\\n\\n2. Language: The official language is French, and it is spoken by the majority of the population.\\n\\n3. Geography: France shares borders with several countries, including Belgium, Luxembourg, Germany, Switzerland, Italy, Spain, and Andorra. It also has coastlines along the Mediterranean Sea, the Atlantic Ocean, and the English Channel.\\n\\n4. History: France has a long and influential history, including the French Revolution in 1789, which led to the end of the monarchy and the rise of the First French Republic. It has also been involved in various conflicts, including World War I and World War II.\\n\\n5. Culture: France is renowned for its cultural contributions, including its cuisine, fashion, art, literature, and cinema. It is home to many iconic landmarks such as the Eiffel Tower, Louvre Museum, Notre-Dame Cathedral, and Palace of Versailles.\\n\\n6. Economy: France has one of the largest economies in the world and is a member of the European Union. It is known for its industries in sectors like aerospace, automotive, luxury goods, tourism, and agriculture.\\n\\n7. Tourism: France is one of the most visited countries globally, attracting millions of tourists each year. Popular tourist destinations include Paris, the French Riviera, the Loire Valley, Provence, and the French Alps.\\n\\n8. Sports: France has a strong sporting culture and has hosted major international events like the FIFA World Cup and the Tour de France. Football (soccer), rugby, cycling, tennis, and skiing are popular sports in the country.\\n\\n9. Education: France has a well-developed education system, including prestigious universities and institutions. It is known for its contributions to philosophy, mathematics, and science.\\n\\n10. Government: France is a unitary semi-presidential republic, with a President as the head of state and a Prime Minister as the head of government. It has a multi-party political system.\\n\\nThese are just some general aspects about France, and there is much more to explore about its history, culture, and society.'"
      ]
     },
     "execution_count": 3,
     "metadata": {},
     "output_type": "execute_result"
    }
   ],
   "source": [
    "# answer with Fewshot\n",
    "chat.predict(\"What do you know about France?\")"
   ]
  },
  {
   "cell_type": "code",
   "execution_count": 4,
   "metadata": {},
   "outputs": [
    {
     "name": "stdout",
     "output_type": "stream",
     "text": [
      "AI: \n",
      "     I know this:\n",
      "     Capital: Berlin\n",
      "     Language: German\n",
      "     Food: Bratwurst and Sauerkraut\n",
      "     Currency: Euro"
     ]
    },
    {
     "data": {
      "text/plain": [
       "AIMessageChunk(content='AI: \\n     I know this:\\n     Capital: Berlin\\n     Language: German\\n     Food: Bratwurst and Sauerkraut\\n     Currency: Euro')"
      ]
     },
     "execution_count": 4,
     "metadata": {},
     "output_type": "execute_result"
    }
   ],
   "source": [
    "# Need to format an example\n",
    "\n",
    "#example_template = \"\"\"\n",
    "#    Human: {question}\n",
    "#    AI: {answer}\n",
    "#\"\"\"\n",
    "\n",
    "example_prompt = PromptTemplate.from_template(\"Human: {question}\\nAI: {answer}\")\n",
    "\n",
    "prompt = FewShotPromptTemplate(\n",
    "    example_prompt=example_prompt,\n",
    "    examples=examples,\n",
    "    suffix=\"Human: What do you know about {country}?\",\n",
    "    input_variables=[\"country\"],\n",
    ")\n",
    "\n",
    "# prompt.format(country=\"Germany\")\n",
    "\n",
    "# now put it inside of the chain\n",
    "chain = prompt | chat\n",
    "\n",
    "chain.invoke({\n",
    "    \"country\":\"Germany\"\n",
    "})"
   ]
  },
  {
   "cell_type": "code",
   "execution_count": 5,
   "metadata": {},
   "outputs": [],
   "source": [
    "examples2 = [\n",
    "    {\n",
    "    \"country\": \"France\",\n",
    "    \"answer\":\"\"\"\n",
    "    Here is what I know:\n",
    "    Capital:Paris\n",
    "    Language:French\n",
    "    Food: Wine and Cheese\n",
    "    Currency:Euro\n",
    "    \"\"\",\n",
    "    },\n",
    "    {\"country\": \"Italy\",\n",
    "     \"answer\": \"\"\"\n",
    "     I know this:\n",
    "     Capital:Rome\n",
    "     Language: Italian\n",
    "     Food: Pizza and Pasta\n",
    "     Curency: Euro\n",
    "     \"\"\",\n",
    "     },\n",
    "    {\"country\": \"Greece\",\n",
    "     \"answer\": \"\"\"\n",
    "     I know this:\n",
    "     Capital: Athens\n",
    "     Language:Greek\n",
    "     Food: Souvlaki and Feta Cheese\n",
    "     Currency:Euro\n",
    "     \"\"\",\n",
    "     },\n",
    "]"
   ]
  },
  {
   "cell_type": "code",
   "execution_count": 6,
   "metadata": {},
   "outputs": [
    {
     "name": "stdout",
     "output_type": "stream",
     "text": [
      "I know this:\n",
      "     Capital: Berlin\n",
      "     Language: German\n",
      "     Food: Bratwurst and Sauerkraut\n",
      "     Currency: Euro"
     ]
    },
    {
     "data": {
      "text/plain": [
       "AIMessageChunk(content='I know this:\\n     Capital: Berlin\\n     Language: German\\n     Food: Bratwurst and Sauerkraut\\n     Currency: Euro')"
      ]
     },
     "execution_count": 6,
     "metadata": {},
     "output_type": "execute_result"
    }
   ],
   "source": [
    "example2_prompt = ChatPromptTemplate.from_messages([\n",
    "    (\"human\", \"What do you know about {country}? \"),\n",
    "    (\"ai\", \"{answer}\"),\n",
    "])\n",
    "\n",
    "example2_prompt = FewShotChatMessagePromptTemplate(\n",
    "    example_prompt=example2_prompt,\n",
    "    examples=examples2,\n",
    ")\n",
    "\n",
    "final_prompt = ChatPromptTemplate.from_messages([\n",
    "    (\"system\", \"You are a geography expert, you give short answer\"),\n",
    "    example2_prompt,\n",
    "    (\"human\", \"what do you know about {country}?\")\n",
    "])\n",
    "\n",
    "chain = final_prompt | chat\n",
    "chain.invoke({\"country\":\"Germany\"})"
   ]
  },
  {
   "attachments": {},
   "cell_type": "markdown",
   "metadata": {},
   "source": [
    "### How to make a dynamic example selector\n",
    "- this will format your example, see how long the are \n",
    "- depending on your setting, it is going to choose example that fit on the prompt"
   ]
  },
  {
   "cell_type": "code",
   "execution_count": 7,
   "metadata": {},
   "outputs": [
    {
     "data": {
      "text/plain": [
       "'Human: What do you know about France?\\nAI: \\n    Here is what I know:\\n    Capital:Paris\\n    Language:French\\n    Food: Wine and Cheese\\n    Currency:Euro\\n    \\n\\nHuman: What do you know about Italy?\\nAI: \\n     I know this:\\n     Capital:Rome\\n     Language: Italian\\n     Food: Pizza and Pasta\\n     Curency: Euro\\n     \\n\\nHuman: What do you know about Greece?\\nAI: \\n     I know this:\\n     Capital: Athens\\n     Language:Greek\\n     Food: Souvlaki and Feta Cheese\\n     Currency:Euro\\n     \\n\\nHuman: What do you know about Brazil?'"
      ]
     },
     "execution_count": 7,
     "metadata": {},
     "output_type": "execute_result"
    }
   ],
   "source": [
    "from langchain.prompts.example_selector import LengthBasedExampleSelector\n",
    "\n",
    "# examples from above cell\n",
    "example_prompt = PromptTemplate.from_template(\"Human: {question}\\nAI: {answer}\")\n",
    "\n",
    "example_selector = LengthBasedExampleSelector(\n",
    "    examples=examples,\n",
    "    example_prompt=example_prompt,\n",
    "    max_length=180,\n",
    ")\n",
    "\n",
    "prompt = FewShotPromptTemplate(\n",
    "    example_prompt=example_prompt,\n",
    "    example_selector=example_selector,\n",
    "    suffix=\"Human: What do you know about {country}?\",\n",
    "    input_variables=[\"country\"],\n",
    ")\n",
    "\n",
    "prompt.format(country=\"Brazil\")"
   ]
  },
  {
   "cell_type": "code",
   "execution_count": 8,
   "metadata": {},
   "outputs": [
    {
     "data": {
      "text/plain": [
       "'Human: What do you know about Italy?\\nAI: \\n     I know this:\\n     Capital:Rome\\n     Language: Italian\\n     Food: Pizza and Pasta\\n     Curency: Euro\\n     \\n\\nHuman: What do you know about Brazil?'"
      ]
     },
     "execution_count": 8,
     "metadata": {},
     "output_type": "execute_result"
    }
   ],
   "source": [
    "from typing import Any, Dict, List\n",
    "from langchain.prompts.example_selector.base import BaseExampleSelector\n",
    "\n",
    "\n",
    "# this is a very rough simple example\n",
    "# from list of example above, choose one randomly\n",
    "class RandomExampleSelector(BaseExampleSelector):\n",
    "    \n",
    "    def __init__(self, examples):\n",
    "        self.examples = examples\n",
    "        \n",
    "    def add_example(self, example):\n",
    "        self.examples.append(example)\n",
    "    \n",
    "    def select_examples(self, input_variables):\n",
    "        from random import choice\n",
    "        return [choice(self.examples)] # select_examples should return a list!\n",
    "    \n",
    "    \n",
    "    \n",
    "example_prompt = PromptTemplate.from_template(\"Human: {question}\\nAI: {answer}\")\n",
    "\n",
    "example_selector = RandomExampleSelector(\n",
    "    examples=examples,\n",
    ")\n",
    "\n",
    "prompt = FewShotPromptTemplate(\n",
    "    example_prompt=example_prompt,\n",
    "    example_selector=example_selector,\n",
    "    suffix=\"Human: What do you know about {country}?\",\n",
    "    input_variables=[\"country\"],\n",
    ")\n",
    "\n",
    "prompt.format(country=\"Brazil\")"
   ]
  },
  {
   "attachments": {},
   "cell_type": "markdown",
   "metadata": {},
   "source": [
    "### Composition\n",
    "- How to have various tiny prompt template and put them all together"
   ]
  },
  {
   "attachments": {},
   "cell_type": "markdown",
   "metadata": {},
   "source": [
    "- How to load prompt templates from the disk"
   ]
  },
  {
   "cell_type": "code",
   "execution_count": 11,
   "metadata": {},
   "outputs": [
    {
     "data": {
      "text/plain": [
       "'What is the capital of Germany'"
      ]
     },
     "execution_count": 11,
     "metadata": {},
     "output_type": "execute_result"
    }
   ],
   "source": [
    "from langchain.prompts import load_prompt\n",
    "\n",
    "\n",
    "prompt = load_prompt(\"./prompt.yaml\")\n",
    "\n",
    "chat = ChatOpenAI(\n",
    "    temperature=0.1,\n",
    "    streaming=True,\n",
    "    callbacks=[\n",
    "        StreamingStdOutCallbackHandler(),\n",
    "    ],\n",
    ")\n",
    "\n",
    "prompt.format(country=\"Germany\")"
   ]
  },
  {
   "attachments": {},
   "cell_type": "markdown",
   "metadata": {},
   "source": [
    "- This allow us to combine many prompts together."
   ]
  },
  {
   "cell_type": "code",
   "execution_count": 12,
   "metadata": {},
   "outputs": [
    {
     "name": "stdout",
     "output_type": "stream",
     "text": [
      "Arrrrg! Me favorite food be a good ol' plate of rum-infused shrimp! The taste of those succulent crustaceans be like a party in me mouth, matey! Arg arg!"
     ]
    },
    {
     "data": {
      "text/plain": [
       "AIMessageChunk(content=\"Arrrrg! Me favorite food be a good ol' plate of rum-infused shrimp! The taste of those succulent crustaceans be like a party in me mouth, matey! Arg arg!\")"
      ]
     },
     "execution_count": 12,
     "metadata": {},
     "output_type": "execute_result"
    }
   ],
   "source": [
    "from langchain.prompts.pipeline import PipelinePromptTemplate\n",
    "\n",
    "chat = ChatOpenAI(\n",
    "    temperature=0.1,\n",
    "    streaming=True,\n",
    "    callbacks=[\n",
    "        StreamingStdOutCallbackHandler(),\n",
    "    ],\n",
    ")\n",
    "\n",
    "intro = PromptTemplate.from_template(\n",
    "    \"\"\"\n",
    "    You are a role playing assistant.\n",
    "    And you are impersonating a {character}\n",
    "\"\"\"\n",
    ")\n",
    "\n",
    "example = PromptTemplate.from_template(\n",
    "    \"\"\"\n",
    "    This is an example of how you talk:\n",
    "\n",
    "    Human: {example_question}\n",
    "    You: {example_answer}\n",
    "\"\"\"\n",
    ")\n",
    "\n",
    "start = PromptTemplate.from_template(\n",
    "    \"\"\"\n",
    "    Start now!\n",
    "\n",
    "    Human: {question}\n",
    "    You:\n",
    "\"\"\"\n",
    ")\n",
    "\n",
    "final = PromptTemplate.from_template(\n",
    "    \"\"\"\n",
    "    {intro}\n",
    "                                     \n",
    "    {example}\n",
    "                              \n",
    "    {start}\n",
    "\"\"\"\n",
    ")\n",
    "\n",
    "prompts = [\n",
    "    (\"intro\", intro),\n",
    "    (\"example\", example),\n",
    "    (\"start\", start)\n",
    "]\n",
    "\n",
    "full_prompt = PipelinePromptTemplate(\n",
    "    final_prompt=final,\n",
    "    pipeline_prompts=prompts,\n",
    ")\n",
    "\n",
    "# full_prompt.format(\n",
    "#     character=\"Pirate\",\n",
    "#     example_question=\"What is your location?\",\n",
    "#     example_answer=\"Arrrrg! That is a secret!! Arg arg!!\",\n",
    "#     question=\"What is your fav food?\",\n",
    "# )\n",
    "\n",
    "chain = full_prompt | chat\n",
    "\n",
    "chain.invoke({\n",
    "    \"character\":\"Pirate\",\n",
    "    \"example_question\":\"What is your location?\",\n",
    "    \"example_answer\":\"Arrrrg! That is a secret!! Arg arg!!\",\n",
    "    \"question\":\"What is your fav food?\",\n",
    "})\n"
   ]
  },
  {
   "attachments": {},
   "cell_type": "markdown",
   "metadata": {},
   "source": [
    "## Caching\n",
    "- https://python.langchain.com/docs/integrations/llms/llm_caching"
   ]
  },
  {
   "cell_type": "code",
   "execution_count": 18,
   "metadata": {},
   "outputs": [],
   "source": [
    "# from langchain.chat_models import ChatOpenAI\n",
    "# from langchain.callbacks import StreamingStdOutCallbackHandler\n",
    "from langchain.globals import set_llm_cache, set_debug\n",
    "\n",
    "# cache we are currently using is in memory cache\n",
    "# so, if we restart the notebook, it takes 17 sec again.\n",
    "from langchain.cache import InMemoryCache, SQLiteCache # hence, keep a cache on a database (SQL)\n",
    "\n",
    "\n",
    "set_llm_cache(InMemoryCache())\n",
    "# debug is useful when working with chain\n",
    "set_debug(True) # this command shows what's going on with prompt\n",
    "\n",
    "chat = ChatOpenAI(\n",
    "    temperature=0.1,\n",
    ")"
   ]
  },
  {
   "cell_type": "code",
   "execution_count": 19,
   "metadata": {},
   "outputs": [
    {
     "name": "stdout",
     "output_type": "stream",
     "text": [
      "\u001b[32;1m\u001b[1;3m[llm/start]\u001b[0m \u001b[1m[1:llm:ChatOpenAI] Entering LLM run with input:\n",
      "\u001b[0m{\n",
      "  \"prompts\": [\n",
      "    \"Human: How do you make italian pasta\"\n",
      "  ]\n",
      "}\n",
      "\u001b[36;1m\u001b[1;3m[llm/end]\u001b[0m \u001b[1m[1:llm:ChatOpenAI] [12.66s] Exiting LLM run with output:\n",
      "\u001b[0m{\n",
      "  \"generations\": [\n",
      "    [\n",
      "      {\n",
      "        \"text\": \"To make Italian pasta, you will need the following ingredients:\\n\\n- 2 cups of all-purpose flour\\n- 2 large eggs\\n- 1/2 teaspoon of salt\\n- Water (if needed)\\n\\nHere's a step-by-step guide to making Italian pasta:\\n\\n1. On a clean surface or in a large mixing bowl, pour the flour and create a well in the center.\\n\\n2. Crack the eggs into the well and add the salt.\\n\\n3. Using a fork or your fingers, gradually mix the eggs and salt into the flour, incorporating a little bit at a time.\\n\\n4. Once the dough starts to come together, knead it with your hands until it forms a smooth and elastic ball. If the dough feels too dry, you can add a little water, teaspoon by teaspoon, until it reaches the desired consistency. If it's too wet, add a little more flour.\\n\\n5. Once the dough is formed, cover it with a clean kitchen towel or plastic wrap and let it rest for about 30 minutes. This allows the gluten to relax and makes the dough easier to work with.\\n\\n6. After resting, divide the dough into smaller portions. Take one portion and flatten it with your hands or a rolling pin until it's about 1/4 inch thick.\\n\\n7. If you have a pasta machine, you can use it to roll out the dough to your desired thickness. Start with the widest setting and gradually decrease the thickness until you reach the desired thickness. If you don't have a pasta machine, you can use a rolling pin to roll out the dough as thin as possible.\\n\\n8. Once the dough is rolled out, you can cut it into your desired pasta shape. For example, you can cut it into thin strips for spaghetti or fettuccine, or into squares for ravioli.\\n\\n9. As you cut the pasta, dust it with a little flour to prevent sticking.\\n\\n10. Once the pasta is cut, you can cook it immediately in a large pot of salted boiling water for about 2-3 minutes or until al dente. Fresh pasta cooks much faster than dried pasta.\\n\\n11. Drain the cooked pasta and serve it with your favorite sauce or toppings.\\n\\nEnjoy your homemade Italian pasta!\",\n",
      "        \"generation_info\": {\n",
      "          \"finish_reason\": \"stop\"\n",
      "        },\n",
      "        \"type\": \"ChatGeneration\",\n",
      "        \"message\": {\n",
      "          \"lc\": 1,\n",
      "          \"type\": \"constructor\",\n",
      "          \"id\": [\n",
      "            \"langchain\",\n",
      "            \"schema\",\n",
      "            \"messages\",\n",
      "            \"AIMessage\"\n",
      "          ],\n",
      "          \"kwargs\": {\n",
      "            \"content\": \"To make Italian pasta, you will need the following ingredients:\\n\\n- 2 cups of all-purpose flour\\n- 2 large eggs\\n- 1/2 teaspoon of salt\\n- Water (if needed)\\n\\nHere's a step-by-step guide to making Italian pasta:\\n\\n1. On a clean surface or in a large mixing bowl, pour the flour and create a well in the center.\\n\\n2. Crack the eggs into the well and add the salt.\\n\\n3. Using a fork or your fingers, gradually mix the eggs and salt into the flour, incorporating a little bit at a time.\\n\\n4. Once the dough starts to come together, knead it with your hands until it forms a smooth and elastic ball. If the dough feels too dry, you can add a little water, teaspoon by teaspoon, until it reaches the desired consistency. If it's too wet, add a little more flour.\\n\\n5. Once the dough is formed, cover it with a clean kitchen towel or plastic wrap and let it rest for about 30 minutes. This allows the gluten to relax and makes the dough easier to work with.\\n\\n6. After resting, divide the dough into smaller portions. Take one portion and flatten it with your hands or a rolling pin until it's about 1/4 inch thick.\\n\\n7. If you have a pasta machine, you can use it to roll out the dough to your desired thickness. Start with the widest setting and gradually decrease the thickness until you reach the desired thickness. If you don't have a pasta machine, you can use a rolling pin to roll out the dough as thin as possible.\\n\\n8. Once the dough is rolled out, you can cut it into your desired pasta shape. For example, you can cut it into thin strips for spaghetti or fettuccine, or into squares for ravioli.\\n\\n9. As you cut the pasta, dust it with a little flour to prevent sticking.\\n\\n10. Once the pasta is cut, you can cook it immediately in a large pot of salted boiling water for about 2-3 minutes or until al dente. Fresh pasta cooks much faster than dried pasta.\\n\\n11. Drain the cooked pasta and serve it with your favorite sauce or toppings.\\n\\nEnjoy your homemade Italian pasta!\",\n",
      "            \"additional_kwargs\": {}\n",
      "          }\n",
      "        }\n",
      "      }\n",
      "    ]\n",
      "  ],\n",
      "  \"llm_output\": {\n",
      "    \"token_usage\": {\n",
      "      \"prompt_tokens\": 13,\n",
      "      \"completion_tokens\": 453,\n",
      "      \"total_tokens\": 466\n",
      "    },\n",
      "    \"model_name\": \"gpt-3.5-turbo\",\n",
      "    \"system_fingerprint\": null\n",
      "  },\n",
      "  \"run\": null\n",
      "}\n"
     ]
    },
    {
     "data": {
      "text/plain": [
       "\"To make Italian pasta, you will need the following ingredients:\\n\\n- 2 cups of all-purpose flour\\n- 2 large eggs\\n- 1/2 teaspoon of salt\\n- Water (if needed)\\n\\nHere's a step-by-step guide to making Italian pasta:\\n\\n1. On a clean surface or in a large mixing bowl, pour the flour and create a well in the center.\\n\\n2. Crack the eggs into the well and add the salt.\\n\\n3. Using a fork or your fingers, gradually mix the eggs and salt into the flour, incorporating a little bit at a time.\\n\\n4. Once the dough starts to come together, knead it with your hands until it forms a smooth and elastic ball. If the dough feels too dry, you can add a little water, teaspoon by teaspoon, until it reaches the desired consistency. If it's too wet, add a little more flour.\\n\\n5. Once the dough is formed, cover it with a clean kitchen towel or plastic wrap and let it rest for about 30 minutes. This allows the gluten to relax and makes the dough easier to work with.\\n\\n6. After resting, divide the dough into smaller portions. Take one portion and flatten it with your hands or a rolling pin until it's about 1/4 inch thick.\\n\\n7. If you have a pasta machine, you can use it to roll out the dough to your desired thickness. Start with the widest setting and gradually decrease the thickness until you reach the desired thickness. If you don't have a pasta machine, you can use a rolling pin to roll out the dough as thin as possible.\\n\\n8. Once the dough is rolled out, you can cut it into your desired pasta shape. For example, you can cut it into thin strips for spaghetti or fettuccine, or into squares for ravioli.\\n\\n9. As you cut the pasta, dust it with a little flour to prevent sticking.\\n\\n10. Once the pasta is cut, you can cook it immediately in a large pot of salted boiling water for about 2-3 minutes or until al dente. Fresh pasta cooks much faster than dried pasta.\\n\\n11. Drain the cooked pasta and serve it with your favorite sauce or toppings.\\n\\nEnjoy your homemade Italian pasta!\""
      ]
     },
     "execution_count": 19,
     "metadata": {},
     "output_type": "execute_result"
    }
   ],
   "source": [
    "chat.predict(\"How do you make italian pasta\") # this response took around 17 sec"
   ]
  },
  {
   "cell_type": "code",
   "execution_count": 20,
   "metadata": {},
   "outputs": [
    {
     "name": "stdout",
     "output_type": "stream",
     "text": [
      "\u001b[32;1m\u001b[1;3m[llm/start]\u001b[0m \u001b[1m[1:llm:ChatOpenAI] Entering LLM run with input:\n",
      "\u001b[0m{\n",
      "  \"prompts\": [\n",
      "    \"Human: How do you make italian pasta\"\n",
      "  ]\n",
      "}\n",
      "\u001b[36;1m\u001b[1;3m[llm/end]\u001b[0m \u001b[1m[1:llm:ChatOpenAI] [1ms] Exiting LLM run with output:\n",
      "\u001b[0m{\n",
      "  \"generations\": [\n",
      "    [\n",
      "      {\n",
      "        \"text\": \"To make Italian pasta, you will need the following ingredients:\\n\\n- 2 cups of all-purpose flour\\n- 2 large eggs\\n- 1/2 teaspoon of salt\\n- Water (if needed)\\n\\nHere's a step-by-step guide to making Italian pasta:\\n\\n1. On a clean surface or in a large mixing bowl, pour the flour and create a well in the center.\\n\\n2. Crack the eggs into the well and add the salt.\\n\\n3. Using a fork or your fingers, gradually mix the eggs and salt into the flour, incorporating a little bit at a time.\\n\\n4. Once the dough starts to come together, knead it with your hands until it forms a smooth and elastic ball. If the dough feels too dry, you can add a little water, teaspoon by teaspoon, until it reaches the desired consistency. If it's too wet, add a little more flour.\\n\\n5. Once the dough is formed, cover it with a clean kitchen towel or plastic wrap and let it rest for about 30 minutes. This allows the gluten to relax and makes the dough easier to work with.\\n\\n6. After resting, divide the dough into smaller portions. Take one portion and flatten it with your hands or a rolling pin until it's about 1/4 inch thick.\\n\\n7. If you have a pasta machine, you can use it to roll out the dough to your desired thickness. Start with the widest setting and gradually decrease the thickness until you reach the desired thickness. If you don't have a pasta machine, you can use a rolling pin to roll out the dough as thin as possible.\\n\\n8. Once the dough is rolled out, you can cut it into your desired pasta shape. For example, you can cut it into thin strips for spaghetti or fettuccine, or into squares for ravioli.\\n\\n9. As you cut the pasta, dust it with a little flour to prevent sticking.\\n\\n10. Once the pasta is cut, you can cook it immediately in a large pot of salted boiling water for about 2-3 minutes or until al dente. Fresh pasta cooks much faster than dried pasta.\\n\\n11. Drain the cooked pasta and serve it with your favorite sauce or toppings.\\n\\nEnjoy your homemade Italian pasta!\",\n",
      "        \"generation_info\": {\n",
      "          \"finish_reason\": \"stop\"\n",
      "        },\n",
      "        \"type\": \"ChatGeneration\",\n",
      "        \"message\": {\n",
      "          \"lc\": 1,\n",
      "          \"type\": \"constructor\",\n",
      "          \"id\": [\n",
      "            \"langchain\",\n",
      "            \"schema\",\n",
      "            \"messages\",\n",
      "            \"AIMessage\"\n",
      "          ],\n",
      "          \"kwargs\": {\n",
      "            \"content\": \"To make Italian pasta, you will need the following ingredients:\\n\\n- 2 cups of all-purpose flour\\n- 2 large eggs\\n- 1/2 teaspoon of salt\\n- Water (if needed)\\n\\nHere's a step-by-step guide to making Italian pasta:\\n\\n1. On a clean surface or in a large mixing bowl, pour the flour and create a well in the center.\\n\\n2. Crack the eggs into the well and add the salt.\\n\\n3. Using a fork or your fingers, gradually mix the eggs and salt into the flour, incorporating a little bit at a time.\\n\\n4. Once the dough starts to come together, knead it with your hands until it forms a smooth and elastic ball. If the dough feels too dry, you can add a little water, teaspoon by teaspoon, until it reaches the desired consistency. If it's too wet, add a little more flour.\\n\\n5. Once the dough is formed, cover it with a clean kitchen towel or plastic wrap and let it rest for about 30 minutes. This allows the gluten to relax and makes the dough easier to work with.\\n\\n6. After resting, divide the dough into smaller portions. Take one portion and flatten it with your hands or a rolling pin until it's about 1/4 inch thick.\\n\\n7. If you have a pasta machine, you can use it to roll out the dough to your desired thickness. Start with the widest setting and gradually decrease the thickness until you reach the desired thickness. If you don't have a pasta machine, you can use a rolling pin to roll out the dough as thin as possible.\\n\\n8. Once the dough is rolled out, you can cut it into your desired pasta shape. For example, you can cut it into thin strips for spaghetti or fettuccine, or into squares for ravioli.\\n\\n9. As you cut the pasta, dust it with a little flour to prevent sticking.\\n\\n10. Once the pasta is cut, you can cook it immediately in a large pot of salted boiling water for about 2-3 minutes or until al dente. Fresh pasta cooks much faster than dried pasta.\\n\\n11. Drain the cooked pasta and serve it with your favorite sauce or toppings.\\n\\nEnjoy your homemade Italian pasta!\",\n",
      "            \"additional_kwargs\": {}\n",
      "          }\n",
      "        }\n",
      "      }\n",
      "    ]\n",
      "  ],\n",
      "  \"llm_output\": null,\n",
      "  \"run\": null\n",
      "}\n"
     ]
    },
    {
     "data": {
      "text/plain": [
       "\"To make Italian pasta, you will need the following ingredients:\\n\\n- 2 cups of all-purpose flour\\n- 2 large eggs\\n- 1/2 teaspoon of salt\\n- Water (if needed)\\n\\nHere's a step-by-step guide to making Italian pasta:\\n\\n1. On a clean surface or in a large mixing bowl, pour the flour and create a well in the center.\\n\\n2. Crack the eggs into the well and add the salt.\\n\\n3. Using a fork or your fingers, gradually mix the eggs and salt into the flour, incorporating a little bit at a time.\\n\\n4. Once the dough starts to come together, knead it with your hands until it forms a smooth and elastic ball. If the dough feels too dry, you can add a little water, teaspoon by teaspoon, until it reaches the desired consistency. If it's too wet, add a little more flour.\\n\\n5. Once the dough is formed, cover it with a clean kitchen towel or plastic wrap and let it rest for about 30 minutes. This allows the gluten to relax and makes the dough easier to work with.\\n\\n6. After resting, divide the dough into smaller portions. Take one portion and flatten it with your hands or a rolling pin until it's about 1/4 inch thick.\\n\\n7. If you have a pasta machine, you can use it to roll out the dough to your desired thickness. Start with the widest setting and gradually decrease the thickness until you reach the desired thickness. If you don't have a pasta machine, you can use a rolling pin to roll out the dough as thin as possible.\\n\\n8. Once the dough is rolled out, you can cut it into your desired pasta shape. For example, you can cut it into thin strips for spaghetti or fettuccine, or into squares for ravioli.\\n\\n9. As you cut the pasta, dust it with a little flour to prevent sticking.\\n\\n10. Once the pasta is cut, you can cook it immediately in a large pot of salted boiling water for about 2-3 minutes or until al dente. Fresh pasta cooks much faster than dried pasta.\\n\\n11. Drain the cooked pasta and serve it with your favorite sauce or toppings.\\n\\nEnjoy your homemade Italian pasta!\""
      ]
     },
     "execution_count": 20,
     "metadata": {},
     "output_type": "execute_result"
    }
   ],
   "source": [
    "# This took immediately since it did not go through LLM but cache\n",
    "chat.predict(\"How do you make italian pasta\")"
   ]
  },
  {
   "cell_type": "code",
   "execution_count": 21,
   "metadata": {},
   "outputs": [
    {
     "name": "stdout",
     "output_type": "stream",
     "text": [
      "\u001b[32;1m\u001b[1;3m[llm/start]\u001b[0m \u001b[1m[1:llm:ChatOpenAI] Entering LLM run with input:\n",
      "\u001b[0m{\n",
      "  \"prompts\": [\n",
      "    \"Human: How to study data structure?\"\n",
      "  ]\n",
      "}\n",
      "\u001b[36;1m\u001b[1;3m[llm/end]\u001b[0m \u001b[1m[1:llm:ChatOpenAI] [12.48s] Exiting LLM run with output:\n",
      "\u001b[0m{\n",
      "  \"generations\": [\n",
      "    [\n",
      "      {\n",
      "        \"text\": \"Here are some steps to help you study data structures effectively:\\n\\n1. Understand the basics: Start by understanding the fundamental concepts of data structures, such as arrays, linked lists, stacks, queues, trees, graphs, and hash tables. Learn about their properties, operations, and use cases.\\n\\n2. Choose a learning resource: Select a reliable learning resource that suits your learning style. This could be a textbook, online course, video tutorials, or interactive coding platforms.\\n\\n3. Break it down: Divide your study into smaller topics and focus on one data structure at a time. This will help you grasp the concepts more easily and avoid feeling overwhelmed.\\n\\n4. Implement and code: Practice implementing data structures in your preferred programming language. Start with simple examples and gradually move on to more complex ones. This hands-on approach will solidify your understanding and improve your coding skills.\\n\\n5. Analyze time and space complexity: Understand the time and space complexity of different data structures and their operations. This knowledge will help you choose the most efficient data structure for a given problem.\\n\\n6. Solve problems: Solve coding problems and exercises related to data structures. Websites like LeetCode, HackerRank, and CodeSignal offer a wide range of practice problems to sharpen your skills.\\n\\n7. Review and revise: Regularly review the concepts you have learned to reinforce your understanding. Take notes, create flashcards, or explain the concepts to someone else to solidify your knowledge.\\n\\n8. Apply in real-world scenarios: Try to apply data structures in real-world scenarios or projects. This will help you understand their practical applications and improve your problem-solving abilities.\\n\\n9. Collaborate and discuss: Engage in discussions with fellow learners or join study groups to exchange ideas, ask questions, and gain different perspectives. Collaborative learning can enhance your understanding and provide valuable insights.\\n\\n10. Practice, practice, practice: Consistent practice is key to mastering data structures. Keep challenging yourself with new problems and projects to reinforce your knowledge and improve your problem-solving skills.\\n\\nRemember, learning data structures is a gradual process, so be patient and persistent. With regular practice and dedication, you will become proficient in understanding and implementing data structures.\",\n",
      "        \"generation_info\": {\n",
      "          \"finish_reason\": \"stop\"\n",
      "        },\n",
      "        \"type\": \"ChatGeneration\",\n",
      "        \"message\": {\n",
      "          \"lc\": 1,\n",
      "          \"type\": \"constructor\",\n",
      "          \"id\": [\n",
      "            \"langchain\",\n",
      "            \"schema\",\n",
      "            \"messages\",\n",
      "            \"AIMessage\"\n",
      "          ],\n",
      "          \"kwargs\": {\n",
      "            \"content\": \"Here are some steps to help you study data structures effectively:\\n\\n1. Understand the basics: Start by understanding the fundamental concepts of data structures, such as arrays, linked lists, stacks, queues, trees, graphs, and hash tables. Learn about their properties, operations, and use cases.\\n\\n2. Choose a learning resource: Select a reliable learning resource that suits your learning style. This could be a textbook, online course, video tutorials, or interactive coding platforms.\\n\\n3. Break it down: Divide your study into smaller topics and focus on one data structure at a time. This will help you grasp the concepts more easily and avoid feeling overwhelmed.\\n\\n4. Implement and code: Practice implementing data structures in your preferred programming language. Start with simple examples and gradually move on to more complex ones. This hands-on approach will solidify your understanding and improve your coding skills.\\n\\n5. Analyze time and space complexity: Understand the time and space complexity of different data structures and their operations. This knowledge will help you choose the most efficient data structure for a given problem.\\n\\n6. Solve problems: Solve coding problems and exercises related to data structures. Websites like LeetCode, HackerRank, and CodeSignal offer a wide range of practice problems to sharpen your skills.\\n\\n7. Review and revise: Regularly review the concepts you have learned to reinforce your understanding. Take notes, create flashcards, or explain the concepts to someone else to solidify your knowledge.\\n\\n8. Apply in real-world scenarios: Try to apply data structures in real-world scenarios or projects. This will help you understand their practical applications and improve your problem-solving abilities.\\n\\n9. Collaborate and discuss: Engage in discussions with fellow learners or join study groups to exchange ideas, ask questions, and gain different perspectives. Collaborative learning can enhance your understanding and provide valuable insights.\\n\\n10. Practice, practice, practice: Consistent practice is key to mastering data structures. Keep challenging yourself with new problems and projects to reinforce your knowledge and improve your problem-solving skills.\\n\\nRemember, learning data structures is a gradual process, so be patient and persistent. With regular practice and dedication, you will become proficient in understanding and implementing data structures.\",\n",
      "            \"additional_kwargs\": {}\n",
      "          }\n",
      "        }\n",
      "      }\n",
      "    ]\n",
      "  ],\n",
      "  \"llm_output\": {\n",
      "    \"token_usage\": {\n",
      "      \"prompt_tokens\": 13,\n",
      "      \"completion_tokens\": 436,\n",
      "      \"total_tokens\": 449\n",
      "    },\n",
      "    \"model_name\": \"gpt-3.5-turbo\",\n",
      "    \"system_fingerprint\": null\n",
      "  },\n",
      "  \"run\": null\n",
      "}\n"
     ]
    },
    {
     "data": {
      "text/plain": [
       "'Here are some steps to help you study data structures effectively:\\n\\n1. Understand the basics: Start by understanding the fundamental concepts of data structures, such as arrays, linked lists, stacks, queues, trees, graphs, and hash tables. Learn about their properties, operations, and use cases.\\n\\n2. Choose a learning resource: Select a reliable learning resource that suits your learning style. This could be a textbook, online course, video tutorials, or interactive coding platforms.\\n\\n3. Break it down: Divide your study into smaller topics and focus on one data structure at a time. This will help you grasp the concepts more easily and avoid feeling overwhelmed.\\n\\n4. Implement and code: Practice implementing data structures in your preferred programming language. Start with simple examples and gradually move on to more complex ones. This hands-on approach will solidify your understanding and improve your coding skills.\\n\\n5. Analyze time and space complexity: Understand the time and space complexity of different data structures and their operations. This knowledge will help you choose the most efficient data structure for a given problem.\\n\\n6. Solve problems: Solve coding problems and exercises related to data structures. Websites like LeetCode, HackerRank, and CodeSignal offer a wide range of practice problems to sharpen your skills.\\n\\n7. Review and revise: Regularly review the concepts you have learned to reinforce your understanding. Take notes, create flashcards, or explain the concepts to someone else to solidify your knowledge.\\n\\n8. Apply in real-world scenarios: Try to apply data structures in real-world scenarios or projects. This will help you understand their practical applications and improve your problem-solving abilities.\\n\\n9. Collaborate and discuss: Engage in discussions with fellow learners or join study groups to exchange ideas, ask questions, and gain different perspectives. Collaborative learning can enhance your understanding and provide valuable insights.\\n\\n10. Practice, practice, practice: Consistent practice is key to mastering data structures. Keep challenging yourself with new problems and projects to reinforce your knowledge and improve your problem-solving skills.\\n\\nRemember, learning data structures is a gradual process, so be patient and persistent. With regular practice and dedication, you will become proficient in understanding and implementing data structures.'"
      ]
     },
     "execution_count": 21,
     "metadata": {},
     "output_type": "execute_result"
    }
   ],
   "source": [
    "set_llm_cache(SQLiteCache(\"cache.db\"))\n",
    "chat.predict(\"How to study data structure?\")"
   ]
  },
  {
   "cell_type": "code",
   "execution_count": 22,
   "metadata": {},
   "outputs": [
    {
     "name": "stdout",
     "output_type": "stream",
     "text": [
      "\u001b[32;1m\u001b[1;3m[llm/start]\u001b[0m \u001b[1m[1:llm:ChatOpenAI] Entering LLM run with input:\n",
      "\u001b[0m{\n",
      "  \"prompts\": [\n",
      "    \"Human: How to study data structure?\"\n",
      "  ]\n",
      "}\n",
      "\u001b[36;1m\u001b[1;3m[llm/end]\u001b[0m \u001b[1m[1:llm:ChatOpenAI] [2ms] Exiting LLM run with output:\n",
      "\u001b[0m{\n",
      "  \"generations\": [\n",
      "    [\n",
      "      {\n",
      "        \"text\": \"Here are some steps to help you study data structures effectively:\\n\\n1. Understand the basics: Start by understanding the fundamental concepts of data structures, such as arrays, linked lists, stacks, queues, trees, graphs, and hash tables. Learn about their properties, operations, and use cases.\\n\\n2. Choose a learning resource: Select a reliable learning resource that suits your learning style. This could be a textbook, online course, video tutorials, or interactive coding platforms.\\n\\n3. Break it down: Divide your study into smaller topics and focus on one data structure at a time. This will help you grasp the concepts more easily and avoid feeling overwhelmed.\\n\\n4. Implement and code: Practice implementing data structures in your preferred programming language. Start with simple examples and gradually move on to more complex ones. This hands-on approach will solidify your understanding and improve your coding skills.\\n\\n5. Analyze time and space complexity: Understand the time and space complexity of different data structures and their operations. This knowledge will help you choose the most efficient data structure for a given problem.\\n\\n6. Solve problems: Solve coding problems and exercises related to data structures. Websites like LeetCode, HackerRank, and CodeSignal offer a wide range of practice problems to sharpen your skills.\\n\\n7. Review and revise: Regularly review the concepts you have learned to reinforce your understanding. Take notes, create flashcards, or explain the concepts to someone else to solidify your knowledge.\\n\\n8. Apply in real-world scenarios: Try to apply data structures in real-world scenarios or projects. This will help you understand their practical applications and improve your problem-solving abilities.\\n\\n9. Collaborate and discuss: Engage in discussions with fellow learners or join study groups to exchange ideas, ask questions, and gain different perspectives. Collaborative learning can enhance your understanding and provide valuable insights.\\n\\n10. Practice, practice, practice: Consistent practice is key to mastering data structures. Keep challenging yourself with new problems and projects to reinforce your knowledge and improve your problem-solving skills.\\n\\nRemember, learning data structures is a gradual process, so be patient and persistent. With regular practice and dedication, you will become proficient in understanding and implementing data structures.\",\n",
      "        \"generation_info\": {\n",
      "          \"finish_reason\": \"stop\"\n",
      "        },\n",
      "        \"type\": \"ChatGeneration\",\n",
      "        \"message\": {\n",
      "          \"lc\": 1,\n",
      "          \"type\": \"constructor\",\n",
      "          \"id\": [\n",
      "            \"langchain\",\n",
      "            \"schema\",\n",
      "            \"messages\",\n",
      "            \"AIMessage\"\n",
      "          ],\n",
      "          \"kwargs\": {\n",
      "            \"content\": \"Here are some steps to help you study data structures effectively:\\n\\n1. Understand the basics: Start by understanding the fundamental concepts of data structures, such as arrays, linked lists, stacks, queues, trees, graphs, and hash tables. Learn about their properties, operations, and use cases.\\n\\n2. Choose a learning resource: Select a reliable learning resource that suits your learning style. This could be a textbook, online course, video tutorials, or interactive coding platforms.\\n\\n3. Break it down: Divide your study into smaller topics and focus on one data structure at a time. This will help you grasp the concepts more easily and avoid feeling overwhelmed.\\n\\n4. Implement and code: Practice implementing data structures in your preferred programming language. Start with simple examples and gradually move on to more complex ones. This hands-on approach will solidify your understanding and improve your coding skills.\\n\\n5. Analyze time and space complexity: Understand the time and space complexity of different data structures and their operations. This knowledge will help you choose the most efficient data structure for a given problem.\\n\\n6. Solve problems: Solve coding problems and exercises related to data structures. Websites like LeetCode, HackerRank, and CodeSignal offer a wide range of practice problems to sharpen your skills.\\n\\n7. Review and revise: Regularly review the concepts you have learned to reinforce your understanding. Take notes, create flashcards, or explain the concepts to someone else to solidify your knowledge.\\n\\n8. Apply in real-world scenarios: Try to apply data structures in real-world scenarios or projects. This will help you understand their practical applications and improve your problem-solving abilities.\\n\\n9. Collaborate and discuss: Engage in discussions with fellow learners or join study groups to exchange ideas, ask questions, and gain different perspectives. Collaborative learning can enhance your understanding and provide valuable insights.\\n\\n10. Practice, practice, practice: Consistent practice is key to mastering data structures. Keep challenging yourself with new problems and projects to reinforce your knowledge and improve your problem-solving skills.\\n\\nRemember, learning data structures is a gradual process, so be patient and persistent. With regular practice and dedication, you will become proficient in understanding and implementing data structures.\",\n",
      "            \"additional_kwargs\": {}\n",
      "          }\n",
      "        }\n",
      "      }\n",
      "    ]\n",
      "  ],\n",
      "  \"llm_output\": null,\n",
      "  \"run\": null\n",
      "}\n"
     ]
    },
    {
     "data": {
      "text/plain": [
       "'Here are some steps to help you study data structures effectively:\\n\\n1. Understand the basics: Start by understanding the fundamental concepts of data structures, such as arrays, linked lists, stacks, queues, trees, graphs, and hash tables. Learn about their properties, operations, and use cases.\\n\\n2. Choose a learning resource: Select a reliable learning resource that suits your learning style. This could be a textbook, online course, video tutorials, or interactive coding platforms.\\n\\n3. Break it down: Divide your study into smaller topics and focus on one data structure at a time. This will help you grasp the concepts more easily and avoid feeling overwhelmed.\\n\\n4. Implement and code: Practice implementing data structures in your preferred programming language. Start with simple examples and gradually move on to more complex ones. This hands-on approach will solidify your understanding and improve your coding skills.\\n\\n5. Analyze time and space complexity: Understand the time and space complexity of different data structures and their operations. This knowledge will help you choose the most efficient data structure for a given problem.\\n\\n6. Solve problems: Solve coding problems and exercises related to data structures. Websites like LeetCode, HackerRank, and CodeSignal offer a wide range of practice problems to sharpen your skills.\\n\\n7. Review and revise: Regularly review the concepts you have learned to reinforce your understanding. Take notes, create flashcards, or explain the concepts to someone else to solidify your knowledge.\\n\\n8. Apply in real-world scenarios: Try to apply data structures in real-world scenarios or projects. This will help you understand their practical applications and improve your problem-solving abilities.\\n\\n9. Collaborate and discuss: Engage in discussions with fellow learners or join study groups to exchange ideas, ask questions, and gain different perspectives. Collaborative learning can enhance your understanding and provide valuable insights.\\n\\n10. Practice, practice, practice: Consistent practice is key to mastering data structures. Keep challenging yourself with new problems and projects to reinforce your knowledge and improve your problem-solving skills.\\n\\nRemember, learning data structures is a gradual process, so be patient and persistent. With regular practice and dedication, you will become proficient in understanding and implementing data structures.'"
      ]
     },
     "execution_count": 22,
     "metadata": {},
     "output_type": "execute_result"
    }
   ],
   "source": [
    "chat.predict(\"How to study data structure?\")"
   ]
  },
  {
   "attachments": {},
   "cell_type": "markdown",
   "metadata": {},
   "source": [
    "### Serialization\n",
    "- Saving and loading models"
   ]
  },
  {
   "attachments": {},
   "cell_type": "markdown",
   "metadata": {},
   "source": [
    "- What if you want to know how much money cost on each call?"
   ]
  },
  {
   "cell_type": "code",
   "execution_count": 24,
   "metadata": {},
   "outputs": [
    {
     "name": "stdout",
     "output_type": "stream",
     "text": [
      "\u001b[32;1m\u001b[1;3m[llm/start]\u001b[0m \u001b[1m[1:llm:ChatOpenAI] Entering LLM run with input:\n",
      "\u001b[0m{\n",
      "  \"prompts\": [\n",
      "    \"Human: What is the recipe for soju\"\n",
      "  ]\n",
      "}\n",
      "\u001b[36;1m\u001b[1;3m[llm/end]\u001b[0m \u001b[1m[1:llm:ChatOpenAI] [2ms] Exiting LLM run with output:\n",
      "\u001b[0m{\n",
      "  \"generations\": [\n",
      "    [\n",
      "      {\n",
      "        \"text\": \"Here is a simple recipe for making soju at home:\\n\\nIngredients:\\n- 1 cup of rice\\n- 1 cup of nuruk (a Korean fermentation starter)\\n- 8 cups of water\\n- 1 tablespoon of yeast\\n- 1 tablespoon of sugar (optional)\\n\\nInstructions:\\n1. Rinse the rice thoroughly until the water runs clear.\\n2. Soak the rice in water for about 1 hour, then drain.\\n3. Steam the rice until it becomes soft and sticky.\\n4. Transfer the steamed rice to a large container or pot.\\n5. Add nuruk to the rice and mix well.\\n6. Boil 8 cups of water and let it cool down to room temperature.\\n7. Add the cooled water to the rice and nuruk mixture.\\n8. Dissolve yeast in a small amount of warm water and add it to the mixture.\\n9. Stir everything together until well combined.\\n10. Cover the container with a clean cloth or plastic wrap and let it ferment for about 7-10 days at room temperature.\\n11. After the fermentation period, strain the mixture through a cheesecloth or fine mesh strainer to remove any solids.\\n12. If desired, add sugar to taste and stir until dissolved.\\n13. Transfer the liquid to a clean bottle or jar and refrigerate for at least 24 hours before serving.\\n14. Soju is typically served chilled and enjoyed straight, or it can be used as a base for various cocktails.\\n\\nPlease note that making soju at home may not produce the same results as commercially produced soju, as the process and ingredients used by manufacturers may vary.\",\n",
      "        \"generation_info\": {\n",
      "          \"finish_reason\": \"stop\"\n",
      "        },\n",
      "        \"type\": \"ChatGeneration\",\n",
      "        \"message\": {\n",
      "          \"lc\": 1,\n",
      "          \"type\": \"constructor\",\n",
      "          \"id\": [\n",
      "            \"langchain\",\n",
      "            \"schema\",\n",
      "            \"messages\",\n",
      "            \"AIMessage\"\n",
      "          ],\n",
      "          \"kwargs\": {\n",
      "            \"content\": \"Here is a simple recipe for making soju at home:\\n\\nIngredients:\\n- 1 cup of rice\\n- 1 cup of nuruk (a Korean fermentation starter)\\n- 8 cups of water\\n- 1 tablespoon of yeast\\n- 1 tablespoon of sugar (optional)\\n\\nInstructions:\\n1. Rinse the rice thoroughly until the water runs clear.\\n2. Soak the rice in water for about 1 hour, then drain.\\n3. Steam the rice until it becomes soft and sticky.\\n4. Transfer the steamed rice to a large container or pot.\\n5. Add nuruk to the rice and mix well.\\n6. Boil 8 cups of water and let it cool down to room temperature.\\n7. Add the cooled water to the rice and nuruk mixture.\\n8. Dissolve yeast in a small amount of warm water and add it to the mixture.\\n9. Stir everything together until well combined.\\n10. Cover the container with a clean cloth or plastic wrap and let it ferment for about 7-10 days at room temperature.\\n11. After the fermentation period, strain the mixture through a cheesecloth or fine mesh strainer to remove any solids.\\n12. If desired, add sugar to taste and stir until dissolved.\\n13. Transfer the liquid to a clean bottle or jar and refrigerate for at least 24 hours before serving.\\n14. Soju is typically served chilled and enjoyed straight, or it can be used as a base for various cocktails.\\n\\nPlease note that making soju at home may not produce the same results as commercially produced soju, as the process and ingredients used by manufacturers may vary.\",\n",
      "            \"additional_kwargs\": {}\n",
      "          }\n",
      "        }\n",
      "      }\n",
      "    ]\n",
      "  ],\n",
      "  \"llm_output\": null,\n",
      "  \"run\": null\n",
      "}\n",
      "\u001b[32;1m\u001b[1;3m[llm/start]\u001b[0m \u001b[1m[1:llm:ChatOpenAI] Entering LLM run with input:\n",
      "\u001b[0m{\n",
      "  \"prompts\": [\n",
      "    \"Human: What is the recipe for bread\"\n",
      "  ]\n",
      "}\n",
      "\u001b[36;1m\u001b[1;3m[llm/end]\u001b[0m \u001b[1m[1:llm:ChatOpenAI] [12.16s] Exiting LLM run with output:\n",
      "\u001b[0m{\n",
      "  \"generations\": [\n",
      "    [\n",
      "      {\n",
      "        \"text\": \"Here is a basic recipe for making bread:\\n\\nIngredients:\\n- 4 cups all-purpose flour\\n- 2 teaspoons active dry yeast\\n- 2 teaspoons salt\\n- 2 tablespoons sugar\\n- 2 tablespoons vegetable oil\\n- 1 ½ cups warm water (around 110°F/43°C)\\n\\nInstructions:\\n1. In a large mixing bowl, combine the warm water and sugar. Stir until the sugar is dissolved.\\n2. Sprinkle the yeast over the water and let it sit for about 5 minutes until it becomes foamy.\\n3. Add the flour, salt, and vegetable oil to the bowl. Mix everything together until a dough forms.\\n4. Transfer the dough onto a floured surface and knead it for about 10 minutes until it becomes smooth and elastic. You can also use a stand mixer with a dough hook attachment for this step.\\n5. Place the dough in a greased bowl and cover it with a clean kitchen towel. Let it rise in a warm place for about 1-2 hours until it doubles in size.\\n6. Once the dough has risen, punch it down to release any air bubbles. Shape it into a loaf by rolling it tightly and tucking the ends underneath.\\n7. Place the shaped dough into a greased loaf pan and cover it again with the kitchen towel. Let it rise for another 30-45 minutes until it rises slightly above the rim of the pan.\\n8. Preheat the oven to 375°F (190°C). Bake the bread for about 30-35 minutes until it turns golden brown and sounds hollow when tapped on the bottom.\\n9. Remove the bread from the oven and let it cool in the pan for a few minutes. Then transfer it to a wire rack to cool completely before slicing.\\n\\nNote: This is a basic bread recipe, and you can customize it by adding ingredients like herbs, cheese, or seeds to the dough for different flavors.\",\n",
      "        \"generation_info\": {\n",
      "          \"finish_reason\": \"stop\"\n",
      "        },\n",
      "        \"type\": \"ChatGeneration\",\n",
      "        \"message\": {\n",
      "          \"lc\": 1,\n",
      "          \"type\": \"constructor\",\n",
      "          \"id\": [\n",
      "            \"langchain\",\n",
      "            \"schema\",\n",
      "            \"messages\",\n",
      "            \"AIMessage\"\n",
      "          ],\n",
      "          \"kwargs\": {\n",
      "            \"content\": \"Here is a basic recipe for making bread:\\n\\nIngredients:\\n- 4 cups all-purpose flour\\n- 2 teaspoons active dry yeast\\n- 2 teaspoons salt\\n- 2 tablespoons sugar\\n- 2 tablespoons vegetable oil\\n- 1 ½ cups warm water (around 110°F/43°C)\\n\\nInstructions:\\n1. In a large mixing bowl, combine the warm water and sugar. Stir until the sugar is dissolved.\\n2. Sprinkle the yeast over the water and let it sit for about 5 minutes until it becomes foamy.\\n3. Add the flour, salt, and vegetable oil to the bowl. Mix everything together until a dough forms.\\n4. Transfer the dough onto a floured surface and knead it for about 10 minutes until it becomes smooth and elastic. You can also use a stand mixer with a dough hook attachment for this step.\\n5. Place the dough in a greased bowl and cover it with a clean kitchen towel. Let it rise in a warm place for about 1-2 hours until it doubles in size.\\n6. Once the dough has risen, punch it down to release any air bubbles. Shape it into a loaf by rolling it tightly and tucking the ends underneath.\\n7. Place the shaped dough into a greased loaf pan and cover it again with the kitchen towel. Let it rise for another 30-45 minutes until it rises slightly above the rim of the pan.\\n8. Preheat the oven to 375°F (190°C). Bake the bread for about 30-35 minutes until it turns golden brown and sounds hollow when tapped on the bottom.\\n9. Remove the bread from the oven and let it cool in the pan for a few minutes. Then transfer it to a wire rack to cool completely before slicing.\\n\\nNote: This is a basic bread recipe, and you can customize it by adding ingredients like herbs, cheese, or seeds to the dough for different flavors.\",\n",
      "            \"additional_kwargs\": {}\n",
      "          }\n",
      "        }\n",
      "      }\n",
      "    ]\n",
      "  ],\n",
      "  \"llm_output\": {\n",
      "    \"token_usage\": {\n",
      "      \"prompt_tokens\": 13,\n",
      "      \"completion_tokens\": 392,\n",
      "      \"total_tokens\": 405\n",
      "    },\n",
      "    \"model_name\": \"gpt-3.5-turbo\",\n",
      "    \"system_fingerprint\": null\n",
      "  },\n",
      "  \"run\": null\n",
      "}\n",
      "Here is a simple recipe for making soju at home:\n",
      "\n",
      "Ingredients:\n",
      "- 1 cup of rice\n",
      "- 1 cup of nuruk (a Korean fermentation starter)\n",
      "- 8 cups of water\n",
      "- 1 tablespoon of yeast\n",
      "- 1 tablespoon of sugar (optional)\n",
      "\n",
      "Instructions:\n",
      "1. Rinse the rice thoroughly until the water runs clear.\n",
      "2. Soak the rice in water for about 1 hour, then drain.\n",
      "3. Steam the rice until it becomes soft and sticky.\n",
      "4. Transfer the steamed rice to a large container or pot.\n",
      "5. Add nuruk to the rice and mix well.\n",
      "6. Boil 8 cups of water and let it cool down to room temperature.\n",
      "7. Add the cooled water to the rice and nuruk mixture.\n",
      "8. Dissolve yeast in a small amount of warm water and add it to the mixture.\n",
      "9. Stir everything together until well combined.\n",
      "10. Cover the container with a clean cloth or plastic wrap and let it ferment for about 7-10 days at room temperature.\n",
      "11. After the fermentation period, strain the mixture through a cheesecloth or fine mesh strainer to remove any solids.\n",
      "12. If desired, add sugar to taste and stir until dissolved.\n",
      "13. Transfer the liquid to a clean bottle or jar and refrigerate for at least 24 hours before serving.\n",
      "14. Soju is typically served chilled and enjoyed straight, or it can be used as a base for various cocktails.\n",
      "\n",
      "Please note that making soju at home may not produce the same results as commercially produced soju, as the process and ingredients used by manufacturers may vary. Here is a basic recipe for making bread:\n",
      "\n",
      "Ingredients:\n",
      "- 4 cups all-purpose flour\n",
      "- 2 teaspoons active dry yeast\n",
      "- 2 teaspoons salt\n",
      "- 2 tablespoons sugar\n",
      "- 2 tablespoons vegetable oil\n",
      "- 1 ½ cups warm water (around 110°F/43°C)\n",
      "\n",
      "Instructions:\n",
      "1. In a large mixing bowl, combine the warm water and sugar. Stir until the sugar is dissolved.\n",
      "2. Sprinkle the yeast over the water and let it sit for about 5 minutes until it becomes foamy.\n",
      "3. Add the flour, salt, and vegetable oil to the bowl. Mix everything together until a dough forms.\n",
      "4. Transfer the dough onto a floured surface and knead it for about 10 minutes until it becomes smooth and elastic. You can also use a stand mixer with a dough hook attachment for this step.\n",
      "5. Place the dough in a greased bowl and cover it with a clean kitchen towel. Let it rise in a warm place for about 1-2 hours until it doubles in size.\n",
      "6. Once the dough has risen, punch it down to release any air bubbles. Shape it into a loaf by rolling it tightly and tucking the ends underneath.\n",
      "7. Place the shaped dough into a greased loaf pan and cover it again with the kitchen towel. Let it rise for another 30-45 minutes until it rises slightly above the rim of the pan.\n",
      "8. Preheat the oven to 375°F (190°C). Bake the bread for about 30-35 minutes until it turns golden brown and sounds hollow when tapped on the bottom.\n",
      "9. Remove the bread from the oven and let it cool in the pan for a few minutes. Then transfer it to a wire rack to cool completely before slicing.\n",
      "\n",
      "Note: This is a basic bread recipe, and you can customize it by adding ingredients like herbs, cheese, or seeds to the dough for different flavors. \n",
      "\n",
      "Tokens Used: 405\n",
      "\tPrompt Tokens: 13\n",
      "\tCompletion Tokens: 392\n",
      "Successful Requests: 1\n",
      "Total Cost (USD): $0.0008035000000000001\n"
     ]
    }
   ],
   "source": [
    "from langchain.callbacks import get_openai_callback\n",
    "\n",
    "chat = ChatOpenAI(\n",
    "    temperature=0.1\n",
    ")\n",
    "\n",
    "# for 'usage', you can name it whatever you want\n",
    "with get_openai_callback() as usage:\n",
    "    #call your llm\n",
    "    a = chat.predict(\"What is the recipe for soju\")\n",
    "    b = chat.predict(\"What is the recipe for bread\")\n",
    "    print(a, b, \"\\n\")\n",
    "    print(usage)"
   ]
  },
  {
   "attachments": {},
   "cell_type": "markdown",
   "metadata": {},
   "source": [
    "## Serialization"
   ]
  },
  {
   "attachments": {},
   "cell_type": "markdown",
   "metadata": {},
   "source": [
    "- Create your own model and save it"
   ]
  },
  {
   "cell_type": "code",
   "execution_count": 26,
   "metadata": {},
   "outputs": [],
   "source": [
    "from langchain.llms.openai import OpenAI\n",
    "\n",
    "chat = OpenAI(\n",
    "    temperature=0.1,\n",
    "    max_tokens=450,\n",
    "    model='gpt-3.5-turbo-16k'\n",
    ")\n",
    "\n",
    "chat.save(\"gpt3.5_model.json\")"
   ]
  },
  {
   "attachments": {},
   "cell_type": "markdown",
   "metadata": {},
   "source": [
    "- You can also load your model"
   ]
  },
  {
   "cell_type": "code",
   "execution_count": 27,
   "metadata": {},
   "outputs": [
    {
     "name": "stderr",
     "output_type": "stream",
     "text": [
      "/Users/joongho/Documents/fullstack_gpt/env/lib/python3.11/site-packages/langchain/llms/openai.py:216: UserWarning: You are trying to use a chat model. This way of initializing it is no longer supported. Instead, please use: `from langchain.chat_models import ChatOpenAI`\n",
      "  warnings.warn(\n",
      "/Users/joongho/Documents/fullstack_gpt/env/lib/python3.11/site-packages/langchain/llms/openai.py:811: UserWarning: You are trying to use a chat model. This way of initializing it is no longer supported. Instead, please use: `from langchain.chat_models import ChatOpenAI`\n",
      "  warnings.warn(\n"
     ]
    },
    {
     "data": {
      "text/plain": [
       "OpenAIChat(client=<class 'openai.api_resources.chat_completion.ChatCompletion'>, model_name='gpt-3.5-turbo-16k', model_kwargs={'temperature': 0.1, 'max_tokens': 450, 'top_p': 1, 'frequency_penalty': 0, 'presence_penalty': 0, 'n': 1, 'request_timeout': None, 'logit_bias': {}})"
      ]
     },
     "execution_count": 27,
     "metadata": {},
     "output_type": "execute_result"
    }
   ],
   "source": [
    "from langchain.llms.loading import load_llm\n",
    "\n",
    "chat = load_llm(\"gpt3.5_model.json\")\n",
    "chat"
   ]
  },
  {
   "cell_type": "code",
   "execution_count": null,
   "metadata": {},
   "outputs": [],
   "source": []
  }
 ],
 "metadata": {
  "kernelspec": {
   "display_name": "env",
   "language": "python",
   "name": "python3"
  },
  "language_info": {
   "codemirror_mode": {
    "name": "ipython",
    "version": 3
   },
   "file_extension": ".py",
   "mimetype": "text/x-python",
   "name": "python",
   "nbconvert_exporter": "python",
   "pygments_lexer": "ipython3",
   "version": "3.11.6"
  },
  "orig_nbformat": 4
 },
 "nbformat": 4,
 "nbformat_minor": 2
}
