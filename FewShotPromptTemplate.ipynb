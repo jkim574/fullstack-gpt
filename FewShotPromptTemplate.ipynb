{
 "cells": [
  {
   "attachments": {},
   "cell_type": "markdown",
   "metadata": {},
   "source": [
    "# FewShotPromptTemplate and Fewshot Learning\n",
    "- Fewshot means you are going to give an example to models to lead better answer.\n",
    "- Instead of delivering prompt every single time, it is more efficient to give an example to model what I want."
   ]
  },
  {
   "cell_type": "code",
   "execution_count": 1,
   "metadata": {},
   "outputs": [
    {
     "data": {
      "text/plain": [
       "'What is the capital of France'"
      ]
     },
     "execution_count": 1,
     "metadata": {},
     "output_type": "execute_result"
    }
   ],
   "source": [
    "from langchain.chat_models import ChatOpenAI\n",
    "from langchain.prompts.few_shot import FewShotPromptTemplate, FewShotChatMessagePromptTemplate\n",
    "from langchain.callbacks import StreamingStdOutCallbackHandler\n",
    "from langchain.prompts.prompt import PromptTemplate\n",
    "from langchain.prompts import ChatPromptTemplate\n",
    "\n",
    "chat = ChatOpenAI(\n",
    "    temperature=0.1,\n",
    "    streaming=True,\n",
    "    callbacks=[\n",
    "        StreamingStdOutCallbackHandler(),\n",
    "    ],\n",
    ")\n",
    "\n",
    "# t = PromptTemplate(\n",
    "#     template=\"What is the capital of {country}\",\n",
    "#     input_variable=[\"country\"],\n",
    "# )\n",
    "# t.format(country=\"France\")\n",
    "\n",
    "\n",
    "t = PromptTemplate.from_template(\"What is the capital of {country}\")\n",
    "t.format(country=\"France\") \n"
   ]
  },
  {
   "cell_type": "code",
   "execution_count": 2,
   "metadata": {},
   "outputs": [],
   "source": [
    "examples = [\n",
    "    {\n",
    "    \"question\": \"What do you know about France?\",\n",
    "    \"answer\":\"\"\"\n",
    "    Here is what I know:\n",
    "    Capital:Paris\n",
    "    Language:French\n",
    "    Food: Wine and Cheese\n",
    "    Currency:Euro\n",
    "    \"\"\",\n",
    "    },\n",
    "    {\"question\": \"What do you know about Italy?\",\n",
    "     \"answer\": \"\"\"\n",
    "     I know this:\n",
    "     Capital:Rome\n",
    "     Language: Italian\n",
    "     Food: Pizza and Pasta\n",
    "     Curency: Euro\n",
    "     \"\"\",\n",
    "     },\n",
    "    {\"question\": \"What do you know about Greece?\",\n",
    "     \"answer\": \"\"\"\n",
    "     I know this:\n",
    "     Capital: Athens\n",
    "     Language:Greek\n",
    "     Food: Souvlaki and Feta Cheese\n",
    "     Currency:Euro\n",
    "     \"\"\",\n",
    "     },\n",
    "]"
   ]
  },
  {
   "cell_type": "code",
   "execution_count": 3,
   "metadata": {},
   "outputs": [
    {
     "name": "stdout",
     "output_type": "stream",
     "text": [
      "France is a country located in Western Europe. It is known for its rich history, culture, and contributions to art, literature, and philosophy. Here are some key points about France:\n",
      "\n",
      "1. Capital: The capital city of France is Paris, which is also its largest city.\n",
      "\n",
      "2. Language: The official language is French, and it is spoken by the majority of the population.\n",
      "\n",
      "3. Geography: France shares borders with several countries, including Belgium, Luxembourg, Germany, Switzerland, Italy, Spain, and Andorra. It also has coastlines along the Mediterranean Sea, the Atlantic Ocean, and the English Channel.\n",
      "\n",
      "4. History: France has a long and influential history, including the French Revolution in 1789, which led to the end of the monarchy and the rise of the First French Republic. It has also been involved in various conflicts, including World War I and World War II.\n",
      "\n",
      "5. Culture: France is renowned for its cultural contributions, including its cuisine, fashion, art, literature, and cinema. It is home to many iconic landmarks such as the Eiffel Tower, Louvre Museum, Notre-Dame Cathedral, and Palace of Versailles.\n",
      "\n",
      "6. Economy: France has one of the largest economies in the world and is a member of the European Union. It is known for its industries in sectors like aerospace, automotive, luxury goods, tourism, and agriculture.\n",
      "\n",
      "7. Tourism: France is one of the most visited countries globally, attracting millions of tourists each year. Popular tourist destinations include Paris, the French Riviera, the Loire Valley, Provence, and the French Alps.\n",
      "\n",
      "8. Sports: France has a strong sporting culture and has hosted major international events like the FIFA World Cup and the Tour de France. Football (soccer), rugby, cycling, tennis, and skiing are popular sports in the country.\n",
      "\n",
      "9. Education: France has a well-developed education system, including prestigious universities and institutions. It is known for its contributions to philosophy, mathematics, and science.\n",
      "\n",
      "10. Government: France is a unitary semi-presidential republic, with a President as the head of state and a Prime Minister as the head of government. It has a multi-party political system.\n",
      "\n",
      "These are just some general aspects about France, and there is much more to explore about its history, culture, and society."
     ]
    },
    {
     "data": {
      "text/plain": [
       "'France is a country located in Western Europe. It is known for its rich history, culture, and contributions to art, literature, and philosophy. Here are some key points about France:\\n\\n1. Capital: The capital city of France is Paris, which is also its largest city.\\n\\n2. Language: The official language is French, and it is spoken by the majority of the population.\\n\\n3. Geography: France shares borders with several countries, including Belgium, Luxembourg, Germany, Switzerland, Italy, Spain, and Andorra. It also has coastlines along the Mediterranean Sea, the Atlantic Ocean, and the English Channel.\\n\\n4. History: France has a long and influential history, including the French Revolution in 1789, which led to the end of the monarchy and the rise of the First French Republic. It has also been involved in various conflicts, including World War I and World War II.\\n\\n5. Culture: France is renowned for its cultural contributions, including its cuisine, fashion, art, literature, and cinema. It is home to many iconic landmarks such as the Eiffel Tower, Louvre Museum, Notre-Dame Cathedral, and Palace of Versailles.\\n\\n6. Economy: France has one of the largest economies in the world and is a member of the European Union. It is known for its industries in sectors like aerospace, automotive, luxury goods, tourism, and agriculture.\\n\\n7. Tourism: France is one of the most visited countries globally, attracting millions of tourists each year. Popular tourist destinations include Paris, the French Riviera, the Loire Valley, Provence, and the French Alps.\\n\\n8. Sports: France has a strong sporting culture and has hosted major international events like the FIFA World Cup and the Tour de France. Football (soccer), rugby, cycling, tennis, and skiing are popular sports in the country.\\n\\n9. Education: France has a well-developed education system, including prestigious universities and institutions. It is known for its contributions to philosophy, mathematics, and science.\\n\\n10. Government: France is a unitary semi-presidential republic, with a President as the head of state and a Prime Minister as the head of government. It has a multi-party political system.\\n\\nThese are just some general aspects about France, and there is much more to explore about its history, culture, and society.'"
      ]
     },
     "execution_count": 3,
     "metadata": {},
     "output_type": "execute_result"
    }
   ],
   "source": [
    "# answer with Fewshot\n",
    "chat.predict(\"What do you know about France?\")"
   ]
  },
  {
   "cell_type": "code",
   "execution_count": 4,
   "metadata": {},
   "outputs": [
    {
     "name": "stdout",
     "output_type": "stream",
     "text": [
      "AI: \n",
      "     I know this:\n",
      "     Capital: Berlin\n",
      "     Language: German\n",
      "     Food: Bratwurst and Sauerkraut\n",
      "     Currency: Euro"
     ]
    },
    {
     "data": {
      "text/plain": [
       "AIMessageChunk(content='AI: \\n     I know this:\\n     Capital: Berlin\\n     Language: German\\n     Food: Bratwurst and Sauerkraut\\n     Currency: Euro')"
      ]
     },
     "execution_count": 4,
     "metadata": {},
     "output_type": "execute_result"
    }
   ],
   "source": [
    "# Need to format an example\n",
    "\n",
    "#example_template = \"\"\"\n",
    "#    Human: {question}\n",
    "#    AI: {answer}\n",
    "#\"\"\"\n",
    "\n",
    "example_prompt = PromptTemplate.from_template(\"Human: {question}\\nAI: {answer}\")\n",
    "\n",
    "prompt = FewShotPromptTemplate(\n",
    "    example_prompt=example_prompt,\n",
    "    examples=examples,\n",
    "    suffix=\"Human: What do you know about {country}?\",\n",
    "    input_variables=[\"country\"],\n",
    ")\n",
    "\n",
    "# prompt.format(country=\"Germany\")\n",
    "\n",
    "# now put it inside of the chain\n",
    "chain = prompt | chat\n",
    "\n",
    "chain.invoke({\n",
    "    \"country\":\"Germany\"\n",
    "})"
   ]
  },
  {
   "cell_type": "code",
   "execution_count": 5,
   "metadata": {},
   "outputs": [],
   "source": [
    "examples2 = [\n",
    "    {\n",
    "    \"country\": \"France\",\n",
    "    \"answer\":\"\"\"\n",
    "    Here is what I know:\n",
    "    Capital:Paris\n",
    "    Language:French\n",
    "    Food: Wine and Cheese\n",
    "    Currency:Euro\n",
    "    \"\"\",\n",
    "    },\n",
    "    {\"country\": \"Italy\",\n",
    "     \"answer\": \"\"\"\n",
    "     I know this:\n",
    "     Capital:Rome\n",
    "     Language: Italian\n",
    "     Food: Pizza and Pasta\n",
    "     Curency: Euro\n",
    "     \"\"\",\n",
    "     },\n",
    "    {\"country\": \"Greece\",\n",
    "     \"answer\": \"\"\"\n",
    "     I know this:\n",
    "     Capital: Athens\n",
    "     Language:Greek\n",
    "     Food: Souvlaki and Feta Cheese\n",
    "     Currency:Euro\n",
    "     \"\"\",\n",
    "     },\n",
    "]"
   ]
  },
  {
   "cell_type": "code",
   "execution_count": 6,
   "metadata": {},
   "outputs": [
    {
     "name": "stdout",
     "output_type": "stream",
     "text": [
      "I know this:\n",
      "     Capital: Berlin\n",
      "     Language: German\n",
      "     Food: Bratwurst and Sauerkraut\n",
      "     Currency: Euro"
     ]
    },
    {
     "data": {
      "text/plain": [
       "AIMessageChunk(content='I know this:\\n     Capital: Berlin\\n     Language: German\\n     Food: Bratwurst and Sauerkraut\\n     Currency: Euro')"
      ]
     },
     "execution_count": 6,
     "metadata": {},
     "output_type": "execute_result"
    }
   ],
   "source": [
    "example2_prompt = ChatPromptTemplate.from_messages([\n",
    "    (\"human\", \"What do you know about {country}? \"),\n",
    "    (\"ai\", \"{answer}\"),\n",
    "])\n",
    "\n",
    "example2_prompt = FewShotChatMessagePromptTemplate(\n",
    "    example_prompt=example2_prompt,\n",
    "    examples=examples2,\n",
    ")\n",
    "\n",
    "final_prompt = ChatPromptTemplate.from_messages([\n",
    "    (\"system\", \"You are a geography expert, you give short answer\"),\n",
    "    example2_prompt,\n",
    "    (\"human\", \"what do you know about {country}?\")\n",
    "])\n",
    "\n",
    "chain = final_prompt | chat\n",
    "chain.invoke({\"country\":\"Germany\"})"
   ]
  },
  {
   "attachments": {},
   "cell_type": "markdown",
   "metadata": {},
   "source": [
    "### How to make a dynamic example selector\n",
    "- this will format your example, see how long the are \n",
    "- depending on your setting, it is going to choose example that fit on the prompt"
   ]
  },
  {
   "cell_type": "code",
   "execution_count": 7,
   "metadata": {},
   "outputs": [
    {
     "data": {
      "text/plain": [
       "'Human: What do you know about France?\\nAI: \\n    Here is what I know:\\n    Capital:Paris\\n    Language:French\\n    Food: Wine and Cheese\\n    Currency:Euro\\n    \\n\\nHuman: What do you know about Italy?\\nAI: \\n     I know this:\\n     Capital:Rome\\n     Language: Italian\\n     Food: Pizza and Pasta\\n     Curency: Euro\\n     \\n\\nHuman: What do you know about Greece?\\nAI: \\n     I know this:\\n     Capital: Athens\\n     Language:Greek\\n     Food: Souvlaki and Feta Cheese\\n     Currency:Euro\\n     \\n\\nHuman: What do you know about Brazil?'"
      ]
     },
     "execution_count": 7,
     "metadata": {},
     "output_type": "execute_result"
    }
   ],
   "source": [
    "from langchain.prompts.example_selector import LengthBasedExampleSelector\n",
    "\n",
    "# examples from above cell\n",
    "example_prompt = PromptTemplate.from_template(\"Human: {question}\\nAI: {answer}\")\n",
    "\n",
    "example_selector = LengthBasedExampleSelector(\n",
    "    examples=examples,\n",
    "    example_prompt=example_prompt,\n",
    "    max_length=180,\n",
    ")\n",
    "\n",
    "prompt = FewShotPromptTemplate(\n",
    "    example_prompt=example_prompt,\n",
    "    example_selector=example_selector,\n",
    "    suffix=\"Human: What do you know about {country}?\",\n",
    "    input_variables=[\"country\"],\n",
    ")\n",
    "\n",
    "prompt.format(country=\"Brazil\")"
   ]
  },
  {
   "cell_type": "code",
   "execution_count": 8,
   "metadata": {},
   "outputs": [
    {
     "data": {
      "text/plain": [
       "'Human: What do you know about Italy?\\nAI: \\n     I know this:\\n     Capital:Rome\\n     Language: Italian\\n     Food: Pizza and Pasta\\n     Curency: Euro\\n     \\n\\nHuman: What do you know about Brazil?'"
      ]
     },
     "execution_count": 8,
     "metadata": {},
     "output_type": "execute_result"
    }
   ],
   "source": [
    "from typing import Any, Dict, List\n",
    "from langchain.prompts.example_selector.base import BaseExampleSelector\n",
    "\n",
    "\n",
    "# this is a very rough simple example\n",
    "# from list of example above, choose one randomly\n",
    "class RandomExampleSelector(BaseExampleSelector):\n",
    "    \n",
    "    def __init__(self, examples):\n",
    "        self.examples = examples\n",
    "        \n",
    "    def add_example(self, example):\n",
    "        self.examples.append(example)\n",
    "    \n",
    "    def select_examples(self, input_variables):\n",
    "        from random import choice\n",
    "        return [choice(self.examples)] # select_examples should return a list!\n",
    "    \n",
    "    \n",
    "    \n",
    "example_prompt = PromptTemplate.from_template(\"Human: {question}\\nAI: {answer}\")\n",
    "\n",
    "example_selector = RandomExampleSelector(\n",
    "    examples=examples,\n",
    ")\n",
    "\n",
    "prompt = FewShotPromptTemplate(\n",
    "    example_prompt=example_prompt,\n",
    "    example_selector=example_selector,\n",
    "    suffix=\"Human: What do you know about {country}?\",\n",
    "    input_variables=[\"country\"],\n",
    ")\n",
    "\n",
    "prompt.format(country=\"Brazil\")"
   ]
  },
  {
   "attachments": {},
   "cell_type": "markdown",
   "metadata": {},
   "source": [
    "### Serialization\n",
    "- Saving and loading\n",
    "\n",
    "### Composition\n",
    "- How to have various tiny prompt template and put them all together"
   ]
  },
  {
   "attachments": {},
   "cell_type": "markdown",
   "metadata": {},
   "source": [
    "- How to load prompt templates from the disk"
   ]
  },
  {
   "cell_type": "code",
   "execution_count": 11,
   "metadata": {},
   "outputs": [
    {
     "data": {
      "text/plain": [
       "'What is the capital of Germany'"
      ]
     },
     "execution_count": 11,
     "metadata": {},
     "output_type": "execute_result"
    }
   ],
   "source": [
    "from langchain.prompts import load_prompt\n",
    "\n",
    "\n",
    "prompt = load_prompt(\"./prompt.yaml\")\n",
    "\n",
    "chat = ChatOpenAI(\n",
    "    temperature=0.1,\n",
    "    streaming=True,\n",
    "    callbacks=[\n",
    "        StreamingStdOutCallbackHandler(),\n",
    "    ],\n",
    ")\n",
    "\n",
    "prompt.format(country=\"Germany\")"
   ]
  },
  {
   "attachments": {},
   "cell_type": "markdown",
   "metadata": {},
   "source": [
    "- This allow us to combine many prompts together."
   ]
  },
  {
   "cell_type": "code",
   "execution_count": 12,
   "metadata": {},
   "outputs": [
    {
     "name": "stdout",
     "output_type": "stream",
     "text": [
      "Arrrrg! Me favorite food be a good ol' plate of rum-infused shrimp! The taste of those succulent crustaceans be like a party in me mouth, matey! Arg arg!"
     ]
    },
    {
     "data": {
      "text/plain": [
       "AIMessageChunk(content=\"Arrrrg! Me favorite food be a good ol' plate of rum-infused shrimp! The taste of those succulent crustaceans be like a party in me mouth, matey! Arg arg!\")"
      ]
     },
     "execution_count": 12,
     "metadata": {},
     "output_type": "execute_result"
    }
   ],
   "source": [
    "from langchain.prompts.pipeline import PipelinePromptTemplate\n",
    "\n",
    "chat = ChatOpenAI(\n",
    "    temperature=0.1,\n",
    "    streaming=True,\n",
    "    callbacks=[\n",
    "        StreamingStdOutCallbackHandler(),\n",
    "    ],\n",
    ")\n",
    "\n",
    "intro = PromptTemplate.from_template(\n",
    "    \"\"\"\n",
    "    You are a role playing assistant.\n",
    "    And you are impersonating a {character}\n",
    "\"\"\"\n",
    ")\n",
    "\n",
    "example = PromptTemplate.from_template(\n",
    "    \"\"\"\n",
    "    This is an example of how you talk:\n",
    "\n",
    "    Human: {example_question}\n",
    "    You: {example_answer}\n",
    "\"\"\"\n",
    ")\n",
    "\n",
    "start = PromptTemplate.from_template(\n",
    "    \"\"\"\n",
    "    Start now!\n",
    "\n",
    "    Human: {question}\n",
    "    You:\n",
    "\"\"\"\n",
    ")\n",
    "\n",
    "final = PromptTemplate.from_template(\n",
    "    \"\"\"\n",
    "    {intro}\n",
    "                                     \n",
    "    {example}\n",
    "                              \n",
    "    {start}\n",
    "\"\"\"\n",
    ")\n",
    "\n",
    "prompts = [\n",
    "    (\"intro\", intro),\n",
    "    (\"example\", example),\n",
    "    (\"start\", start)\n",
    "]\n",
    "\n",
    "full_prompt = PipelinePromptTemplate(\n",
    "    final_prompt=final,\n",
    "    pipeline_prompts=prompts,\n",
    ")\n",
    "\n",
    "# full_prompt.format(\n",
    "#     character=\"Pirate\",\n",
    "#     example_question=\"What is your location?\",\n",
    "#     example_answer=\"Arrrrg! That is a secret!! Arg arg!!\",\n",
    "#     question=\"What is your fav food?\",\n",
    "# )\n",
    "\n",
    "chain = full_prompt | chat\n",
    "\n",
    "chain.invoke({\n",
    "    \"character\":\"Pirate\",\n",
    "    \"example_question\":\"What is your location?\",\n",
    "    \"example_answer\":\"Arrrrg! That is a secret!! Arg arg!!\",\n",
    "    \"question\":\"What is your fav food?\",\n",
    "})\n"
   ]
  },
  {
   "cell_type": "code",
   "execution_count": null,
   "metadata": {},
   "outputs": [],
   "source": []
  }
 ],
 "metadata": {
  "kernelspec": {
   "display_name": "env",
   "language": "python",
   "name": "python3"
  },
  "language_info": {
   "codemirror_mode": {
    "name": "ipython",
    "version": 3
   },
   "file_extension": ".py",
   "mimetype": "text/x-python",
   "name": "python",
   "nbconvert_exporter": "python",
   "pygments_lexer": "ipython3",
   "version": "3.11.6"
  },
  "orig_nbformat": 4
 },
 "nbformat": 4,
 "nbformat_minor": 2
}
